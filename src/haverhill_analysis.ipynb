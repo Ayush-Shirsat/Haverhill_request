{
 "cells": [
  {
   "cell_type": "code",
   "execution_count": 208,
   "metadata": {},
   "outputs": [],
   "source": [
    "import pandas as pd\n",
    "import numpy as np\n",
    "import matplotlib.pyplot as plt\n",
    "import csv\n",
    "import array\n",
    "from datetime import datetime\n",
    "from tqdm import tqdm_notebook as tqdm\n",
    "%matplotlib inline"
   ]
  },
  {
   "cell_type": "code",
   "execution_count": 77,
   "metadata": {},
   "outputs": [],
   "source": [
    "activity = pd.read_csv(\"./haverhill-request/haverhill-activity.csv\")\n",
    "request = pd.read_csv(\"./haverhill-request/haverhill-request.csv\", encoding = 'unicode_escape')"
   ]
  },
  {
   "cell_type": "code",
   "execution_count": 78,
   "metadata": {},
   "outputs": [
    {
     "data": {
      "text/html": [
       "<div>\n",
       "<style scoped>\n",
       "    .dataframe tbody tr th:only-of-type {\n",
       "        vertical-align: middle;\n",
       "    }\n",
       "\n",
       "    .dataframe tbody tr th {\n",
       "        vertical-align: top;\n",
       "    }\n",
       "\n",
       "    .dataframe thead th {\n",
       "        text-align: right;\n",
       "    }\n",
       "</style>\n",
       "<table border=\"1\" class=\"dataframe\">\n",
       "  <thead>\n",
       "    <tr style=\"text-align: right;\">\n",
       "      <th></th>\n",
       "      <th>Activity ID</th>\n",
       "      <th>Activity Type</th>\n",
       "      <th>Activity Code</th>\n",
       "      <th>Activity Date</th>\n",
       "      <th>Request ID</th>\n",
       "    </tr>\n",
       "  </thead>\n",
       "  <tbody>\n",
       "    <tr>\n",
       "      <th>0</th>\n",
       "      <td>9821</td>\n",
       "      <td>Created</td>\n",
       "      <td>9</td>\n",
       "      <td>2017-01-03 13:11:00</td>\n",
       "      <td>5130</td>\n",
       "    </tr>\n",
       "    <tr>\n",
       "      <th>1</th>\n",
       "      <td>9822</td>\n",
       "      <td>Activity entered</td>\n",
       "      <td>7</td>\n",
       "      <td>2017-01-03 13:11:00</td>\n",
       "      <td>5130</td>\n",
       "    </tr>\n",
       "    <tr>\n",
       "      <th>2</th>\n",
       "      <td>9823</td>\n",
       "      <td>Service Request Type changed</td>\n",
       "      <td>5</td>\n",
       "      <td>2017-01-03 13:20:00</td>\n",
       "      <td>5130</td>\n",
       "    </tr>\n",
       "    <tr>\n",
       "      <th>3</th>\n",
       "      <td>9824</td>\n",
       "      <td>Routed</td>\n",
       "      <td>1</td>\n",
       "      <td>2017-01-03 13:20:00</td>\n",
       "      <td>5130</td>\n",
       "    </tr>\n",
       "    <tr>\n",
       "      <th>4</th>\n",
       "      <td>9825</td>\n",
       "      <td>Service Request Type changed</td>\n",
       "      <td>5</td>\n",
       "      <td>2017-01-03 13:21:00</td>\n",
       "      <td>5130</td>\n",
       "    </tr>\n",
       "  </tbody>\n",
       "</table>\n",
       "</div>"
      ],
      "text/plain": [
       "   Activity ID                 Activity Type  Activity Code  \\\n",
       "0         9821                       Created              9   \n",
       "1         9822              Activity entered              7   \n",
       "2         9823  Service Request Type changed              5   \n",
       "3         9824                        Routed              1   \n",
       "4         9825  Service Request Type changed              5   \n",
       "\n",
       "         Activity Date  Request ID  \n",
       "0  2017-01-03 13:11:00        5130  \n",
       "1  2017-01-03 13:11:00        5130  \n",
       "2  2017-01-03 13:20:00        5130  \n",
       "3  2017-01-03 13:20:00        5130  \n",
       "4  2017-01-03 13:21:00        5130  "
      ]
     },
     "execution_count": 78,
     "metadata": {},
     "output_type": "execute_result"
    }
   ],
   "source": [
    "activity.head()"
   ]
  },
  {
   "cell_type": "code",
   "execution_count": 79,
   "metadata": {},
   "outputs": [
    {
     "data": {
      "text/plain": [
       "(187187, 5)"
      ]
     },
     "execution_count": 79,
     "metadata": {},
     "output_type": "execute_result"
    }
   ],
   "source": [
    "activity.shape"
   ]
  },
  {
   "cell_type": "code",
   "execution_count": 80,
   "metadata": {},
   "outputs": [
    {
     "data": {
      "text/html": [
       "<div>\n",
       "<style scoped>\n",
       "    .dataframe tbody tr th:only-of-type {\n",
       "        vertical-align: middle;\n",
       "    }\n",
       "\n",
       "    .dataframe tbody tr th {\n",
       "        vertical-align: top;\n",
       "    }\n",
       "\n",
       "    .dataframe thead th {\n",
       "        text-align: right;\n",
       "    }\n",
       "</style>\n",
       "<table border=\"1\" class=\"dataframe\">\n",
       "  <thead>\n",
       "    <tr style=\"text-align: right;\">\n",
       "      <th></th>\n",
       "      <th>Request ID</th>\n",
       "      <th>Create Date</th>\n",
       "      <th>Master Request</th>\n",
       "      <th>Has Links</th>\n",
       "      <th>Status</th>\n",
       "      <th>Status Code</th>\n",
       "      <th>Last Action</th>\n",
       "      <th>Last Change</th>\n",
       "      <th>Close Date</th>\n",
       "      <th>Work Order Created</th>\n",
       "      <th>...</th>\n",
       "      <th>Cross Street ID</th>\n",
       "      <th>Cross Street</th>\n",
       "      <th>District ID</th>\n",
       "      <th>District</th>\n",
       "      <th>Escalations</th>\n",
       "      <th>Priority</th>\n",
       "      <th>Longitude</th>\n",
       "      <th>Latitude</th>\n",
       "      <th>Origin ID</th>\n",
       "      <th>Origin</th>\n",
       "    </tr>\n",
       "  </thead>\n",
       "  <tbody>\n",
       "    <tr>\n",
       "      <th>0</th>\n",
       "      <td>5130</td>\n",
       "      <td>2017-01-03 13:11:00</td>\n",
       "      <td>0</td>\n",
       "      <td>False</td>\n",
       "      <td>Closed</td>\n",
       "      <td>1</td>\n",
       "      <td>2017-01-03 14:05:00</td>\n",
       "      <td>2017-01-03 14:05:00</td>\n",
       "      <td>2017-01-03 14:05:00</td>\n",
       "      <td>False</td>\n",
       "      <td>...</td>\n",
       "      <td>0</td>\n",
       "      <td>NaN</td>\n",
       "      <td>1</td>\n",
       "      <td>Mt Washington</td>\n",
       "      <td>0</td>\n",
       "      <td>2</td>\n",
       "      <td>-71.105902</td>\n",
       "      <td>42.767552</td>\n",
       "      <td>1</td>\n",
       "      <td>Call Center</td>\n",
       "    </tr>\n",
       "    <tr>\n",
       "      <th>1</th>\n",
       "      <td>5131</td>\n",
       "      <td>2017-01-03 13:29:00</td>\n",
       "      <td>0</td>\n",
       "      <td>False</td>\n",
       "      <td>Closed</td>\n",
       "      <td>1</td>\n",
       "      <td>2017-01-03 13:29:00</td>\n",
       "      <td>2017-01-03 13:29:00</td>\n",
       "      <td>2017-01-03 13:29:00</td>\n",
       "      <td>False</td>\n",
       "      <td>...</td>\n",
       "      <td>0</td>\n",
       "      <td>NaN</td>\n",
       "      <td>0</td>\n",
       "      <td>NaN</td>\n",
       "      <td>0</td>\n",
       "      <td>2</td>\n",
       "      <td>0.000000</td>\n",
       "      <td>0.000000</td>\n",
       "      <td>1</td>\n",
       "      <td>Call Center</td>\n",
       "    </tr>\n",
       "    <tr>\n",
       "      <th>2</th>\n",
       "      <td>5132</td>\n",
       "      <td>2017-01-03 13:33:00</td>\n",
       "      <td>0</td>\n",
       "      <td>False</td>\n",
       "      <td>Closed</td>\n",
       "      <td>1</td>\n",
       "      <td>2017-01-03 13:33:00</td>\n",
       "      <td>2017-01-03 13:33:00</td>\n",
       "      <td>2017-01-03 13:33:00</td>\n",
       "      <td>False</td>\n",
       "      <td>...</td>\n",
       "      <td>0</td>\n",
       "      <td>NaN</td>\n",
       "      <td>0</td>\n",
       "      <td>NaN</td>\n",
       "      <td>0</td>\n",
       "      <td>2</td>\n",
       "      <td>0.000000</td>\n",
       "      <td>0.000000</td>\n",
       "      <td>1</td>\n",
       "      <td>Call Center</td>\n",
       "    </tr>\n",
       "    <tr>\n",
       "      <th>3</th>\n",
       "      <td>5133</td>\n",
       "      <td>2017-01-03 13:47:00</td>\n",
       "      <td>0</td>\n",
       "      <td>False</td>\n",
       "      <td>Closed</td>\n",
       "      <td>1</td>\n",
       "      <td>2017-01-03 13:47:00</td>\n",
       "      <td>2017-01-03 13:47:00</td>\n",
       "      <td>2017-01-03 13:47:00</td>\n",
       "      <td>False</td>\n",
       "      <td>...</td>\n",
       "      <td>0</td>\n",
       "      <td>NaN</td>\n",
       "      <td>0</td>\n",
       "      <td>NaN</td>\n",
       "      <td>0</td>\n",
       "      <td>2</td>\n",
       "      <td>0.000000</td>\n",
       "      <td>0.000000</td>\n",
       "      <td>1</td>\n",
       "      <td>Call Center</td>\n",
       "    </tr>\n",
       "    <tr>\n",
       "      <th>4</th>\n",
       "      <td>5134</td>\n",
       "      <td>2017-01-03 13:47:00</td>\n",
       "      <td>0</td>\n",
       "      <td>False</td>\n",
       "      <td>Closed</td>\n",
       "      <td>1</td>\n",
       "      <td>2017-01-03 13:47:00</td>\n",
       "      <td>2017-01-03 13:47:00</td>\n",
       "      <td>2017-01-03 13:47:00</td>\n",
       "      <td>False</td>\n",
       "      <td>...</td>\n",
       "      <td>0</td>\n",
       "      <td>NaN</td>\n",
       "      <td>0</td>\n",
       "      <td>NaN</td>\n",
       "      <td>0</td>\n",
       "      <td>2</td>\n",
       "      <td>0.000000</td>\n",
       "      <td>0.000000</td>\n",
       "      <td>1</td>\n",
       "      <td>Call Center</td>\n",
       "    </tr>\n",
       "  </tbody>\n",
       "</table>\n",
       "<p>5 rows × 33 columns</p>\n",
       "</div>"
      ],
      "text/plain": [
       "   Request ID          Create Date  Master Request  Has Links  Status  \\\n",
       "0        5130  2017-01-03 13:11:00               0      False  Closed   \n",
       "1        5131  2017-01-03 13:29:00               0      False  Closed   \n",
       "2        5132  2017-01-03 13:33:00               0      False  Closed   \n",
       "3        5133  2017-01-03 13:47:00               0      False  Closed   \n",
       "4        5134  2017-01-03 13:47:00               0      False  Closed   \n",
       "\n",
       "   Status Code          Last Action          Last Change           Close Date  \\\n",
       "0            1  2017-01-03 14:05:00  2017-01-03 14:05:00  2017-01-03 14:05:00   \n",
       "1            1  2017-01-03 13:29:00  2017-01-03 13:29:00  2017-01-03 13:29:00   \n",
       "2            1  2017-01-03 13:33:00  2017-01-03 13:33:00  2017-01-03 13:33:00   \n",
       "3            1  2017-01-03 13:47:00  2017-01-03 13:47:00  2017-01-03 13:47:00   \n",
       "4            1  2017-01-03 13:47:00  2017-01-03 13:47:00  2017-01-03 13:47:00   \n",
       "\n",
       "   Work Order Created     ...       Cross Street ID Cross Street  District ID  \\\n",
       "0               False     ...                     0          NaN            1   \n",
       "1               False     ...                     0          NaN            0   \n",
       "2               False     ...                     0          NaN            0   \n",
       "3               False     ...                     0          NaN            0   \n",
       "4               False     ...                     0          NaN            0   \n",
       "\n",
       "        District  Escalations Priority  Longitude   Latitude Origin ID  \\\n",
       "0  Mt Washington            0        2 -71.105902  42.767552         1   \n",
       "1            NaN            0        2   0.000000   0.000000         1   \n",
       "2            NaN            0        2   0.000000   0.000000         1   \n",
       "3            NaN            0        2   0.000000   0.000000         1   \n",
       "4            NaN            0        2   0.000000   0.000000         1   \n",
       "\n",
       "        Origin  \n",
       "0  Call Center  \n",
       "1  Call Center  \n",
       "2  Call Center  \n",
       "3  Call Center  \n",
       "4  Call Center  \n",
       "\n",
       "[5 rows x 33 columns]"
      ]
     },
     "execution_count": 80,
     "metadata": {},
     "output_type": "execute_result"
    }
   ],
   "source": [
    "request.head()"
   ]
  },
  {
   "cell_type": "code",
   "execution_count": 81,
   "metadata": {},
   "outputs": [
    {
     "data": {
      "text/plain": [
       "(70060, 33)"
      ]
     },
     "execution_count": 81,
     "metadata": {},
     "output_type": "execute_result"
    }
   ],
   "source": [
    "request.shape"
   ]
  },
  {
   "cell_type": "code",
   "execution_count": 82,
   "metadata": {},
   "outputs": [],
   "source": [
    "request_grouped_by_origin = request.groupby(['Origin'])"
   ]
  },
  {
   "cell_type": "code",
   "execution_count": 83,
   "metadata": {},
   "outputs": [],
   "source": [
    "# request.groupby(['Origin']).count().plot(kind='bar')\n",
    "counts = request.groupby('Origin')['Request ID'].agg(len)"
   ]
  },
  {
   "cell_type": "code",
   "execution_count": 84,
   "metadata": {},
   "outputs": [
    {
     "name": "stdout",
     "output_type": "stream",
     "text": [
      "Origin\n",
      "Call Center           66870\n",
      "Control Panel           724\n",
      "Report2Gov Android      110\n",
      "Report2Gov Website        2\n",
      "Report2Gov iOS          321\n",
      "Text Message              5\n",
      "Website                2028\n",
      "Name: Request ID, dtype: int64\n"
     ]
    }
   ],
   "source": [
    "print(counts)"
   ]
  },
  {
   "cell_type": "code",
   "execution_count": 121,
   "metadata": {},
   "outputs": [
    {
     "data": {
      "text/plain": [
       "array([0, 1, 2, 3, 4, 5, 6])"
      ]
     },
     "execution_count": 121,
     "metadata": {},
     "output_type": "execute_result"
    }
   ],
   "source": [
    "origins = request['Origin'].unique()\n",
    "np.arange(len(origins))"
   ]
  },
  {
   "cell_type": "code",
   "execution_count": 131,
   "metadata": {},
   "outputs": [
    {
     "data": {
      "image/png": "[encoded data removed]",
      "text/plain": [
       "<Figure size 432x288 with 1 Axes>"
      ]
     },
     "metadata": {
      "needs_background": "light"
     },
     "output_type": "display_data"
    }
   ],
   "source": [
    "fig, ax = plt.subplots()\n",
    "plt.xticks(np.arange(len(origins)),origins,rotation=30)\n",
    "bars = plt.bar(np.arange(len(origins)),counts)\n",
    "for i,rect in enumerate(bars):\n",
    "    height = rect.get_height()\n",
    "    plt.text(rect.get_x() + rect.get_width()/2.0, height,counts[i], ha='center', va='bottom')"
   ]
  },
  {
   "cell_type": "code",
   "execution_count": 139,
   "metadata": {},
   "outputs": [
    {
     "data": {
      "text/plain": [
       "City\n",
       "Groveland            2\n",
       "Haverhill        70057\n",
       "North Andover        1\n",
       "Name: Request ID, dtype: int64"
      ]
     },
     "execution_count": 139,
     "metadata": {},
     "output_type": "execute_result"
    }
   ],
   "source": [
    "request.groupby('City')['Request ID'].agg(len)"
   ]
  },
  {
   "cell_type": "code",
   "execution_count": 166,
   "metadata": {},
   "outputs": [],
   "source": [
    "request['Close Date'] = request['Close Date'].astype('str')"
   ]
  },
  {
   "cell_type": "code",
   "execution_count": 214,
   "metadata": {},
   "outputs": [
    {
     "data": {
      "application/vnd.jupyter.widget-view+json": {
       "model_id": "20c50a4b1f144a2289032187819d9e23",
       "version_major": 2,
       "version_minor": 0
      },
      "text/plain": [
       "HBox(children=(IntProgress(value=0, max=70060), HTML(value='')))"
      ]
     },
     "metadata": {},
     "output_type": "display_data"
    }
   ],
   "source": [
    "diff_time = []\n",
    "for i,time in tqdm(enumerate(request['Create Date'].values),total = len(request['Create Date'].values)):\n",
    "    timecreated = datetime.strptime(time, \"%Y-%m-%d %H:%M:%S\")\n",
    "    if request['Close Date'][i] != 'nan':\n",
    "        timeclosed = datetime.strptime(request['Close Date'][i], \"%Y-%m-%d %H:%M:%S\")\n",
    "        diff_time.append(timeclosed - timecreated)\n",
    "    else:\n",
    "        diff_time.append('nan')\n",
    "        pass\n",
    "    \n",
    "    \n",
    "    "
   ]
  },
  {
   "cell_type": "code",
   "execution_count": 215,
   "metadata": {},
   "outputs": [],
   "source": [
    "request['Completion Time'] = diff_time"
   ]
  },
  {
   "cell_type": "code",
   "execution_count": 216,
   "metadata": {},
   "outputs": [
    {
     "data": {
      "text/html": [
       "<div>\n",
       "<style scoped>\n",
       "    .dataframe tbody tr th:only-of-type {\n",
       "        vertical-align: middle;\n",
       "    }\n",
       "\n",
       "    .dataframe tbody tr th {\n",
       "        vertical-align: top;\n",
       "    }\n",
       "\n",
       "    .dataframe thead th {\n",
       "        text-align: right;\n",
       "    }\n",
       "</style>\n",
       "<table border=\"1\" class=\"dataframe\">\n",
       "  <thead>\n",
       "    <tr style=\"text-align: right;\">\n",
       "      <th></th>\n",
       "      <th>Request ID</th>\n",
       "      <th>Create Date</th>\n",
       "      <th>Master Request</th>\n",
       "      <th>Has Links</th>\n",
       "      <th>Status</th>\n",
       "      <th>Status Code</th>\n",
       "      <th>Last Action</th>\n",
       "      <th>Last Change</th>\n",
       "      <th>Close Date</th>\n",
       "      <th>Work Order Created</th>\n",
       "      <th>...</th>\n",
       "      <th>District</th>\n",
       "      <th>Escalations</th>\n",
       "      <th>Priority</th>\n",
       "      <th>Longitude</th>\n",
       "      <th>Latitude</th>\n",
       "      <th>Origin ID</th>\n",
       "      <th>Origin</th>\n",
       "      <th>CompletionTime</th>\n",
       "      <th>DayofWeek</th>\n",
       "      <th>Completion Time</th>\n",
       "    </tr>\n",
       "  </thead>\n",
       "  <tbody>\n",
       "    <tr>\n",
       "      <th>0</th>\n",
       "      <td>5130</td>\n",
       "      <td>2017-01-03 13:11:00</td>\n",
       "      <td>0</td>\n",
       "      <td>False</td>\n",
       "      <td>Closed</td>\n",
       "      <td>1</td>\n",
       "      <td>2017-01-03 14:05:00</td>\n",
       "      <td>2017-01-03 14:05:00</td>\n",
       "      <td>2017-01-03 14:05:00</td>\n",
       "      <td>False</td>\n",
       "      <td>...</td>\n",
       "      <td>Mt Washington</td>\n",
       "      <td>0</td>\n",
       "      <td>2</td>\n",
       "      <td>-71.105902</td>\n",
       "      <td>42.767552</td>\n",
       "      <td>1</td>\n",
       "      <td>Call Center</td>\n",
       "      <td>00:54:00</td>\n",
       "      <td>1</td>\n",
       "      <td>00:54:00</td>\n",
       "    </tr>\n",
       "    <tr>\n",
       "      <th>1</th>\n",
       "      <td>5131</td>\n",
       "      <td>2017-01-03 13:29:00</td>\n",
       "      <td>0</td>\n",
       "      <td>False</td>\n",
       "      <td>Closed</td>\n",
       "      <td>1</td>\n",
       "      <td>2017-01-03 13:29:00</td>\n",
       "      <td>2017-01-03 13:29:00</td>\n",
       "      <td>2017-01-03 13:29:00</td>\n",
       "      <td>False</td>\n",
       "      <td>...</td>\n",
       "      <td>NaN</td>\n",
       "      <td>0</td>\n",
       "      <td>2</td>\n",
       "      <td>0.000000</td>\n",
       "      <td>0.000000</td>\n",
       "      <td>1</td>\n",
       "      <td>Call Center</td>\n",
       "      <td>00:00:00</td>\n",
       "      <td>1</td>\n",
       "      <td>00:00:00</td>\n",
       "    </tr>\n",
       "    <tr>\n",
       "      <th>2</th>\n",
       "      <td>5132</td>\n",
       "      <td>2017-01-03 13:33:00</td>\n",
       "      <td>0</td>\n",
       "      <td>False</td>\n",
       "      <td>Closed</td>\n",
       "      <td>1</td>\n",
       "      <td>2017-01-03 13:33:00</td>\n",
       "      <td>2017-01-03 13:33:00</td>\n",
       "      <td>2017-01-03 13:33:00</td>\n",
       "      <td>False</td>\n",
       "      <td>...</td>\n",
       "      <td>NaN</td>\n",
       "      <td>0</td>\n",
       "      <td>2</td>\n",
       "      <td>0.000000</td>\n",
       "      <td>0.000000</td>\n",
       "      <td>1</td>\n",
       "      <td>Call Center</td>\n",
       "      <td>00:00:00</td>\n",
       "      <td>1</td>\n",
       "      <td>00:00:00</td>\n",
       "    </tr>\n",
       "    <tr>\n",
       "      <th>3</th>\n",
       "      <td>5133</td>\n",
       "      <td>2017-01-03 13:47:00</td>\n",
       "      <td>0</td>\n",
       "      <td>False</td>\n",
       "      <td>Closed</td>\n",
       "      <td>1</td>\n",
       "      <td>2017-01-03 13:47:00</td>\n",
       "      <td>2017-01-03 13:47:00</td>\n",
       "      <td>2017-01-03 13:47:00</td>\n",
       "      <td>False</td>\n",
       "      <td>...</td>\n",
       "      <td>NaN</td>\n",
       "      <td>0</td>\n",
       "      <td>2</td>\n",
       "      <td>0.000000</td>\n",
       "      <td>0.000000</td>\n",
       "      <td>1</td>\n",
       "      <td>Call Center</td>\n",
       "      <td>00:00:00</td>\n",
       "      <td>1</td>\n",
       "      <td>00:00:00</td>\n",
       "    </tr>\n",
       "    <tr>\n",
       "      <th>4</th>\n",
       "      <td>5134</td>\n",
       "      <td>2017-01-03 13:47:00</td>\n",
       "      <td>0</td>\n",
       "      <td>False</td>\n",
       "      <td>Closed</td>\n",
       "      <td>1</td>\n",
       "      <td>2017-01-03 13:47:00</td>\n",
       "      <td>2017-01-03 13:47:00</td>\n",
       "      <td>2017-01-03 13:47:00</td>\n",
       "      <td>False</td>\n",
       "      <td>...</td>\n",
       "      <td>NaN</td>\n",
       "      <td>0</td>\n",
       "      <td>2</td>\n",
       "      <td>0.000000</td>\n",
       "      <td>0.000000</td>\n",
       "      <td>1</td>\n",
       "      <td>Call Center</td>\n",
       "      <td>00:00:00</td>\n",
       "      <td>1</td>\n",
       "      <td>00:00:00</td>\n",
       "    </tr>\n",
       "  </tbody>\n",
       "</table>\n",
       "<p>5 rows × 36 columns</p>\n",
       "</div>"
      ],
      "text/plain": [
       "   Request ID          Create Date  Master Request  Has Links  Status  \\\n",
       "0        5130  2017-01-03 13:11:00               0      False  Closed   \n",
       "1        5131  2017-01-03 13:29:00               0      False  Closed   \n",
       "2        5132  2017-01-03 13:33:00               0      False  Closed   \n",
       "3        5133  2017-01-03 13:47:00               0      False  Closed   \n",
       "4        5134  2017-01-03 13:47:00               0      False  Closed   \n",
       "\n",
       "   Status Code          Last Action          Last Change           Close Date  \\\n",
       "0            1  2017-01-03 14:05:00  2017-01-03 14:05:00  2017-01-03 14:05:00   \n",
       "1            1  2017-01-03 13:29:00  2017-01-03 13:29:00  2017-01-03 13:29:00   \n",
       "2            1  2017-01-03 13:33:00  2017-01-03 13:33:00  2017-01-03 13:33:00   \n",
       "3            1  2017-01-03 13:47:00  2017-01-03 13:47:00  2017-01-03 13:47:00   \n",
       "4            1  2017-01-03 13:47:00  2017-01-03 13:47:00  2017-01-03 13:47:00   \n",
       "\n",
       "   Work Order Created       ...             District Escalations  Priority  \\\n",
       "0               False       ...        Mt Washington           0         2   \n",
       "1               False       ...                  NaN           0         2   \n",
       "2               False       ...                  NaN           0         2   \n",
       "3               False       ...                  NaN           0         2   \n",
       "4               False       ...                  NaN           0         2   \n",
       "\n",
       "   Longitude   Latitude Origin ID       Origin  CompletionTime DayofWeek  \\\n",
       "0 -71.105902  42.767552         1  Call Center        00:54:00         1   \n",
       "1   0.000000   0.000000         1  Call Center        00:00:00         1   \n",
       "2   0.000000   0.000000         1  Call Center        00:00:00         1   \n",
       "3   0.000000   0.000000         1  Call Center        00:00:00         1   \n",
       "4   0.000000   0.000000         1  Call Center        00:00:00         1   \n",
       "\n",
       "  Completion Time  \n",
       "0        00:54:00  \n",
       "1        00:00:00  \n",
       "2        00:00:00  \n",
       "3        00:00:00  \n",
       "4        00:00:00  \n",
       "\n",
       "[5 rows x 36 columns]"
      ]
     },
     "execution_count": 216,
     "metadata": {},
     "output_type": "execute_result"
    }
   ],
   "source": [
    "request.head()"
   ]
  },
  {
   "cell_type": "code",
   "execution_count": 188,
   "metadata": {},
   "outputs": [],
   "source": [
    "# request.groupby('Request Type')['Request ID'].agg(len)"
   ]
  },
  {
   "cell_type": "code",
   "execution_count": 217,
   "metadata": {},
   "outputs": [],
   "source": [
    "dayofweek = []\n",
    "for i,time in enumerate(request['Create Date'].values):\n",
    "#     dayofweek = \n",
    "    dayofweek.append(datetime.strptime(time, \"%Y-%m-%d %H:%M:%S\").weekday())\n",
    "#     print(dayofweek)\n",
    "#     request['DayofWeek'][i] = dayofweek"
   ]
  },
  {
   "cell_type": "code",
   "execution_count": 218,
   "metadata": {},
   "outputs": [],
   "source": [
    "request['DayofWeek'] = dayofweek"
   ]
  },
  {
   "cell_type": "code",
   "execution_count": 219,
   "metadata": {},
   "outputs": [
    {
     "data": {
      "text/html": [
       "<div>\n",
       "<style scoped>\n",
       "    .dataframe tbody tr th:only-of-type {\n",
       "        vertical-align: middle;\n",
       "    }\n",
       "\n",
       "    .dataframe tbody tr th {\n",
       "        vertical-align: top;\n",
       "    }\n",
       "\n",
       "    .dataframe thead th {\n",
       "        text-align: right;\n",
       "    }\n",
       "</style>\n",
       "<table border=\"1\" class=\"dataframe\">\n",
       "  <thead>\n",
       "    <tr style=\"text-align: right;\">\n",
       "      <th></th>\n",
       "      <th>Request ID</th>\n",
       "      <th>Create Date</th>\n",
       "      <th>Master Request</th>\n",
       "      <th>Has Links</th>\n",
       "      <th>Status</th>\n",
       "      <th>Status Code</th>\n",
       "      <th>Last Action</th>\n",
       "      <th>Last Change</th>\n",
       "      <th>Close Date</th>\n",
       "      <th>Work Order Created</th>\n",
       "      <th>...</th>\n",
       "      <th>District</th>\n",
       "      <th>Escalations</th>\n",
       "      <th>Priority</th>\n",
       "      <th>Longitude</th>\n",
       "      <th>Latitude</th>\n",
       "      <th>Origin ID</th>\n",
       "      <th>Origin</th>\n",
       "      <th>CompletionTime</th>\n",
       "      <th>DayofWeek</th>\n",
       "      <th>Completion Time</th>\n",
       "    </tr>\n",
       "  </thead>\n",
       "  <tbody>\n",
       "    <tr>\n",
       "      <th>0</th>\n",
       "      <td>5130</td>\n",
       "      <td>2017-01-03 13:11:00</td>\n",
       "      <td>0</td>\n",
       "      <td>False</td>\n",
       "      <td>Closed</td>\n",
       "      <td>1</td>\n",
       "      <td>2017-01-03 14:05:00</td>\n",
       "      <td>2017-01-03 14:05:00</td>\n",
       "      <td>2017-01-03 14:05:00</td>\n",
       "      <td>False</td>\n",
       "      <td>...</td>\n",
       "      <td>Mt Washington</td>\n",
       "      <td>0</td>\n",
       "      <td>2</td>\n",
       "      <td>-71.105902</td>\n",
       "      <td>42.767552</td>\n",
       "      <td>1</td>\n",
       "      <td>Call Center</td>\n",
       "      <td>00:54:00</td>\n",
       "      <td>1</td>\n",
       "      <td>00:54:00</td>\n",
       "    </tr>\n",
       "    <tr>\n",
       "      <th>1</th>\n",
       "      <td>5131</td>\n",
       "      <td>2017-01-03 13:29:00</td>\n",
       "      <td>0</td>\n",
       "      <td>False</td>\n",
       "      <td>Closed</td>\n",
       "      <td>1</td>\n",
       "      <td>2017-01-03 13:29:00</td>\n",
       "      <td>2017-01-03 13:29:00</td>\n",
       "      <td>2017-01-03 13:29:00</td>\n",
       "      <td>False</td>\n",
       "      <td>...</td>\n",
       "      <td>NaN</td>\n",
       "      <td>0</td>\n",
       "      <td>2</td>\n",
       "      <td>0.000000</td>\n",
       "      <td>0.000000</td>\n",
       "      <td>1</td>\n",
       "      <td>Call Center</td>\n",
       "      <td>00:00:00</td>\n",
       "      <td>1</td>\n",
       "      <td>00:00:00</td>\n",
       "    </tr>\n",
       "    <tr>\n",
       "      <th>2</th>\n",
       "      <td>5132</td>\n",
       "      <td>2017-01-03 13:33:00</td>\n",
       "      <td>0</td>\n",
       "      <td>False</td>\n",
       "      <td>Closed</td>\n",
       "      <td>1</td>\n",
       "      <td>2017-01-03 13:33:00</td>\n",
       "      <td>2017-01-03 13:33:00</td>\n",
       "      <td>2017-01-03 13:33:00</td>\n",
       "      <td>False</td>\n",
       "      <td>...</td>\n",
       "      <td>NaN</td>\n",
       "      <td>0</td>\n",
       "      <td>2</td>\n",
       "      <td>0.000000</td>\n",
       "      <td>0.000000</td>\n",
       "      <td>1</td>\n",
       "      <td>Call Center</td>\n",
       "      <td>00:00:00</td>\n",
       "      <td>1</td>\n",
       "      <td>00:00:00</td>\n",
       "    </tr>\n",
       "    <tr>\n",
       "      <th>3</th>\n",
       "      <td>5133</td>\n",
       "      <td>2017-01-03 13:47:00</td>\n",
       "      <td>0</td>\n",
       "      <td>False</td>\n",
       "      <td>Closed</td>\n",
       "      <td>1</td>\n",
       "      <td>2017-01-03 13:47:00</td>\n",
       "      <td>2017-01-03 13:47:00</td>\n",
       "      <td>2017-01-03 13:47:00</td>\n",
       "      <td>False</td>\n",
       "      <td>...</td>\n",
       "      <td>NaN</td>\n",
       "      <td>0</td>\n",
       "      <td>2</td>\n",
       "      <td>0.000000</td>\n",
       "      <td>0.000000</td>\n",
       "      <td>1</td>\n",
       "      <td>Call Center</td>\n",
       "      <td>00:00:00</td>\n",
       "      <td>1</td>\n",
       "      <td>00:00:00</td>\n",
       "    </tr>\n",
       "    <tr>\n",
       "      <th>4</th>\n",
       "      <td>5134</td>\n",
       "      <td>2017-01-03 13:47:00</td>\n",
       "      <td>0</td>\n",
       "      <td>False</td>\n",
       "      <td>Closed</td>\n",
       "      <td>1</td>\n",
       "      <td>2017-01-03 13:47:00</td>\n",
       "      <td>2017-01-03 13:47:00</td>\n",
       "      <td>2017-01-03 13:47:00</td>\n",
       "      <td>False</td>\n",
       "      <td>...</td>\n",
       "      <td>NaN</td>\n",
       "      <td>0</td>\n",
       "      <td>2</td>\n",
       "      <td>0.000000</td>\n",
       "      <td>0.000000</td>\n",
       "      <td>1</td>\n",
       "      <td>Call Center</td>\n",
       "      <td>00:00:00</td>\n",
       "      <td>1</td>\n",
       "      <td>00:00:00</td>\n",
       "    </tr>\n",
       "  </tbody>\n",
       "</table>\n",
       "<p>5 rows × 36 columns</p>\n",
       "</div>"
      ],
      "text/plain": [
       "   Request ID          Create Date  Master Request  Has Links  Status  \\\n",
       "0        5130  2017-01-03 13:11:00               0      False  Closed   \n",
       "1        5131  2017-01-03 13:29:00               0      False  Closed   \n",
       "2        5132  2017-01-03 13:33:00               0      False  Closed   \n",
       "3        5133  2017-01-03 13:47:00               0      False  Closed   \n",
       "4        5134  2017-01-03 13:47:00               0      False  Closed   \n",
       "\n",
       "   Status Code          Last Action          Last Change           Close Date  \\\n",
       "0            1  2017-01-03 14:05:00  2017-01-03 14:05:00  2017-01-03 14:05:00   \n",
       "1            1  2017-01-03 13:29:00  2017-01-03 13:29:00  2017-01-03 13:29:00   \n",
       "2            1  2017-01-03 13:33:00  2017-01-03 13:33:00  2017-01-03 13:33:00   \n",
       "3            1  2017-01-03 13:47:00  2017-01-03 13:47:00  2017-01-03 13:47:00   \n",
       "4            1  2017-01-03 13:47:00  2017-01-03 13:47:00  2017-01-03 13:47:00   \n",
       "\n",
       "   Work Order Created       ...             District Escalations  Priority  \\\n",
       "0               False       ...        Mt Washington           0         2   \n",
       "1               False       ...                  NaN           0         2   \n",
       "2               False       ...                  NaN           0         2   \n",
       "3               False       ...                  NaN           0         2   \n",
       "4               False       ...                  NaN           0         2   \n",
       "\n",
       "   Longitude   Latitude Origin ID       Origin  CompletionTime DayofWeek  \\\n",
       "0 -71.105902  42.767552         1  Call Center        00:54:00         1   \n",
       "1   0.000000   0.000000         1  Call Center        00:00:00         1   \n",
       "2   0.000000   0.000000         1  Call Center        00:00:00         1   \n",
       "3   0.000000   0.000000         1  Call Center        00:00:00         1   \n",
       "4   0.000000   0.000000         1  Call Center        00:00:00         1   \n",
       "\n",
       "  Completion Time  \n",
       "0        00:54:00  \n",
       "1        00:00:00  \n",
       "2        00:00:00  \n",
       "3        00:00:00  \n",
       "4        00:00:00  \n",
       "\n",
       "[5 rows x 36 columns]"
      ]
     },
     "execution_count": 219,
     "metadata": {},
     "output_type": "execute_result"
    }
   ],
   "source": [
    "request.head()"
   ]
  },
  {
   "cell_type": "code",
   "execution_count": 323,
   "metadata": {},
   "outputs": [],
   "source": [
    "counts = request.groupby('DayofWeek')['Request ID'].agg(len)"
   ]
  },
  {
   "cell_type": "code",
   "execution_count": 324,
   "metadata": {},
   "outputs": [],
   "source": [
    "days = ['Mon','Tue','Wed','Thu','Fri','Sat','Sun']"
   ]
  },
  {
   "cell_type": "code",
   "execution_count": 325,
   "metadata": {},
   "outputs": [
    {
     "data": {
      "image/png": "[encoded data removed]",
      "text/plain": [
       "<Figure size 432x288 with 1 Axes>"
      ]
     },
     "metadata": {
      "needs_background": "light"
     },
     "output_type": "display_data"
    }
   ],
   "source": [
    "# print(counts)\n",
    "fig, ax = plt.subplots()\n",
    "plt.xticks(np.arange(len(request['DayofWeek'].unique())),days,rotation=0)\n",
    "bars = plt.bar(np.arange(len(request['DayofWeek'].unique())),counts)\n",
    "plt.xlabel('Day of Week')\n",
    "plt.ylabel('Number of Requests')\n",
    "for i,rect in enumerate(bars):\n",
    "    height = rect.get_height()\n",
    "    plt.text(rect.get_x() + rect.get_width()/2.0, height,counts[i], ha='center', va='bottom')"
   ]
  },
  {
   "cell_type": "code",
   "execution_count": 229,
   "metadata": {},
   "outputs": [],
   "source": [
    "month = []\n",
    "for i,time in enumerate(request['Create Date'].values):\n",
    "    month.append(datetime.strptime(time, \"%Y-%m-%d %H:%M:%S\").month)\n",
    "    "
   ]
  },
  {
   "cell_type": "code",
   "execution_count": 230,
   "metadata": {},
   "outputs": [],
   "source": [
    "request['Month'] = month"
   ]
  },
  {
   "cell_type": "code",
   "execution_count": 233,
   "metadata": {},
   "outputs": [],
   "source": [
    "# request.head()\n",
    "seasons = {'Spring':[4,5],'Summer':[6,7,8],'Fall':[9,10,11],'Winter':[12,1,2,3]}"
   ]
  },
  {
   "cell_type": "code",
   "execution_count": 234,
   "metadata": {},
   "outputs": [
    {
     "name": "stdout",
     "output_type": "stream",
     "text": [
      "dict_keys(['Spring', 'Summer', 'Fall', 'Winter'])\n"
     ]
    }
   ],
   "source": [
    "print(seasons.keys())"
   ]
  },
  {
   "cell_type": "code",
   "execution_count": 236,
   "metadata": {},
   "outputs": [],
   "source": [
    "counts = request.groupby('Month')['Request ID'].agg(len)"
   ]
  },
  {
   "cell_type": "code",
   "execution_count": 247,
   "metadata": {},
   "outputs": [],
   "source": [
    "seasoncounts = []\n",
    "for key in seasons:\n",
    "    seasoncounts.append(counts[seasons[key]].sum())"
   ]
  },
  {
   "cell_type": "code",
   "execution_count": 248,
   "metadata": {},
   "outputs": [
    {
     "name": "stdout",
     "output_type": "stream",
     "text": [
      "[14017, 19372, 14442, 22229]\n"
     ]
    }
   ],
   "source": [
    "print(seasoncounts)"
   ]
  },
  {
   "cell_type": "code",
   "execution_count": 321,
   "metadata": {},
   "outputs": [
    {
     "data": {
      "image/png": "[encoded data removed]",
      "text/plain": [
       "<Figure size 432x288 with 1 Axes>"
      ]
     },
     "metadata": {
      "needs_background": "light"
     },
     "output_type": "display_data"
    }
   ],
   "source": [
    "fig, ax = plt.subplots()\n",
    "plt.xticks(np.arange(len(seasoncounts)),seasons.keys(),rotation=0)\n",
    "bars = plt.bar(np.arange(len(seasoncounts)),seasoncounts, color=['orange', 'yellow', 'purple', 'blue'])\n",
    "plt.xlabel('Season')\n",
    "plt.ylabel('Number of Requests')\n",
    "for i,rect in enumerate(bars):\n",
    "    height = rect.get_height()\n",
    "#     print(height)\n",
    "#     print(rect.get_y())\n",
    "#     print(rect.get_width())\n",
    "    plt.text(rect.get_x() + rect.get_width()/2.0, height,seasoncounts[i], ha='center', va='bottom')"
   ]
  },
  {
   "cell_type": "code",
   "execution_count": 258,
   "metadata": {},
   "outputs": [],
   "source": [
    "requesttypecounts = request.groupby('Request Type')['Request ID'].agg(len).sort_values(ascending = False)"
   ]
  },
  {
   "cell_type": "code",
   "execution_count": 315,
   "metadata": {},
   "outputs": [],
   "source": [
    "# request.groupby('Request Type')['Request Type'].agg(len).sort_values(ascending = False)[0:20]"
   ]
  },
  {
   "cell_type": "code",
   "execution_count": 316,
   "metadata": {},
   "outputs": [],
   "source": [
    "r_top20 = request.groupby('Request Type')['Request Type'].agg(len).sort_values(ascending = False)[0:20]"
   ]
  },
  {
   "cell_type": "code",
   "execution_count": 349,
   "metadata": {},
   "outputs": [],
   "source": [
    "# print(r_top20)"
   ]
  },
  {
   "cell_type": "code",
   "execution_count": 284,
   "metadata": {},
   "outputs": [],
   "source": [
    "top20names = ['A - Information Other',                               \n",
    "'A - Transfer Inspections',                             \n",
    "'A - Transfer Other',                                    \n",
    "'A - Transfer Treasurer',                                \n",
    "'A - Information Treasurer',                             \n",
    "'A - Transfer Assessor',                                 \n",
    "'Highway - Pothole',                                     \n",
    "'A - Information Assessor',                              \n",
    "'Snow Removal Issues - Sanding Request',                 \n",
    "'Tree Issues - City Owned Tree Issue',                    \n",
    "'Snow Removal Issues - Replow Request',                   \n",
    "'TRASH - Missed Pick Up',                                 \n",
    "'Traffic/Street Lights - Street Light Repair',            \n",
    "'A - Information Inspections',                            \n",
    "'Highway - Sidewalk Issues',                              \n",
    "'Highway - Street issues',                                \n",
    "'Tree Issues - Tree Pruning/Trimming',                    \n",
    "'Street Sign Issues - Street Signs Missing/Damaged',      \n",
    "'Highway - Overgrown grass/weeds',                        \n",
    "'Tree Issues - tree limb pickup']                  "
   ]
  },
  {
   "cell_type": "code",
   "execution_count": 319,
   "metadata": {},
   "outputs": [
    {
     "data": {
      "image/png": "[encoded data removed]",
      "text/plain": [
       "<Figure size 864x576 with 1 Axes>"
      ]
     },
     "metadata": {
      "needs_background": "light"
     },
     "output_type": "display_data"
    }
   ],
   "source": [
    "plt.figure(figsize=(12,8))\n",
    "plt.yticks(np.arange(len(r_top20)),top20names,rotation=0)\n",
    "bars = plt.barh(np.arange(len(r_top20)),r_top20)\n",
    "plt.xlabel('Number of requests')\n",
    "plt.ylabel('Request Type')\n",
    "for i,rect in enumerate(bars):\n",
    "    width = rect.get_width()\n",
    "    plt.text(width,rect.get_height()/2+rect.get_y(),r_top20[i])"
   ]
  },
  {
   "cell_type": "code",
   "execution_count": 327,
   "metadata": {},
   "outputs": [
    {
     "data": {
      "application/vnd.jupyter.widget-view+json": {
       "model_id": "db152ff358014dceb045073b3933f290",
       "version_major": 2,
       "version_minor": 0
      },
      "text/plain": [
       "HBox(children=(IntProgress(value=0, max=70060), HTML(value='')))"
      ]
     },
     "metadata": {},
     "output_type": "display_data"
    }
   ],
   "source": [
    "year = []\n",
    "for i,time in tqdm(enumerate(request['Create Date'].values),total = len(request['Create Date'].values)):\n",
    "    timecreated = datetime.strptime(time, \"%Y-%m-%d %H:%M:%S\")\n",
    "    year.append(timecreated.year)"
   ]
  },
  {
   "cell_type": "code",
   "execution_count": 328,
   "metadata": {},
   "outputs": [],
   "source": [
    "request['Year'] = year"
   ]
  },
  {
   "cell_type": "code",
   "execution_count": 329,
   "metadata": {},
   "outputs": [
    {
     "data": {
      "text/html": [
       "<div>\n",
       "<style scoped>\n",
       "    .dataframe tbody tr th:only-of-type {\n",
       "        vertical-align: middle;\n",
       "    }\n",
       "\n",
       "    .dataframe tbody tr th {\n",
       "        vertical-align: top;\n",
       "    }\n",
       "\n",
       "    .dataframe thead th {\n",
       "        text-align: right;\n",
       "    }\n",
       "</style>\n",
       "<table border=\"1\" class=\"dataframe\">\n",
       "  <thead>\n",
       "    <tr style=\"text-align: right;\">\n",
       "      <th></th>\n",
       "      <th>Request ID</th>\n",
       "      <th>Create Date</th>\n",
       "      <th>Master Request</th>\n",
       "      <th>Has Links</th>\n",
       "      <th>Status</th>\n",
       "      <th>Status Code</th>\n",
       "      <th>Last Action</th>\n",
       "      <th>Last Change</th>\n",
       "      <th>Close Date</th>\n",
       "      <th>Work Order Created</th>\n",
       "      <th>...</th>\n",
       "      <th>Priority</th>\n",
       "      <th>Longitude</th>\n",
       "      <th>Latitude</th>\n",
       "      <th>Origin ID</th>\n",
       "      <th>Origin</th>\n",
       "      <th>CompletionTime</th>\n",
       "      <th>DayofWeek</th>\n",
       "      <th>Completion Time</th>\n",
       "      <th>Month</th>\n",
       "      <th>Year</th>\n",
       "    </tr>\n",
       "  </thead>\n",
       "  <tbody>\n",
       "    <tr>\n",
       "      <th>0</th>\n",
       "      <td>5130</td>\n",
       "      <td>2017-01-03 13:11:00</td>\n",
       "      <td>0</td>\n",
       "      <td>False</td>\n",
       "      <td>Closed</td>\n",
       "      <td>1</td>\n",
       "      <td>2017-01-03 14:05:00</td>\n",
       "      <td>2017-01-03 14:05:00</td>\n",
       "      <td>2017-01-03 14:05:00</td>\n",
       "      <td>False</td>\n",
       "      <td>...</td>\n",
       "      <td>2</td>\n",
       "      <td>-71.105902</td>\n",
       "      <td>42.767552</td>\n",
       "      <td>1</td>\n",
       "      <td>Call Center</td>\n",
       "      <td>00:54:00</td>\n",
       "      <td>1</td>\n",
       "      <td>00:54:00</td>\n",
       "      <td>1</td>\n",
       "      <td>2017</td>\n",
       "    </tr>\n",
       "    <tr>\n",
       "      <th>1</th>\n",
       "      <td>5131</td>\n",
       "      <td>2017-01-03 13:29:00</td>\n",
       "      <td>0</td>\n",
       "      <td>False</td>\n",
       "      <td>Closed</td>\n",
       "      <td>1</td>\n",
       "      <td>2017-01-03 13:29:00</td>\n",
       "      <td>2017-01-03 13:29:00</td>\n",
       "      <td>2017-01-03 13:29:00</td>\n",
       "      <td>False</td>\n",
       "      <td>...</td>\n",
       "      <td>2</td>\n",
       "      <td>0.000000</td>\n",
       "      <td>0.000000</td>\n",
       "      <td>1</td>\n",
       "      <td>Call Center</td>\n",
       "      <td>00:00:00</td>\n",
       "      <td>1</td>\n",
       "      <td>00:00:00</td>\n",
       "      <td>1</td>\n",
       "      <td>2017</td>\n",
       "    </tr>\n",
       "    <tr>\n",
       "      <th>2</th>\n",
       "      <td>5132</td>\n",
       "      <td>2017-01-03 13:33:00</td>\n",
       "      <td>0</td>\n",
       "      <td>False</td>\n",
       "      <td>Closed</td>\n",
       "      <td>1</td>\n",
       "      <td>2017-01-03 13:33:00</td>\n",
       "      <td>2017-01-03 13:33:00</td>\n",
       "      <td>2017-01-03 13:33:00</td>\n",
       "      <td>False</td>\n",
       "      <td>...</td>\n",
       "      <td>2</td>\n",
       "      <td>0.000000</td>\n",
       "      <td>0.000000</td>\n",
       "      <td>1</td>\n",
       "      <td>Call Center</td>\n",
       "      <td>00:00:00</td>\n",
       "      <td>1</td>\n",
       "      <td>00:00:00</td>\n",
       "      <td>1</td>\n",
       "      <td>2017</td>\n",
       "    </tr>\n",
       "    <tr>\n",
       "      <th>3</th>\n",
       "      <td>5133</td>\n",
       "      <td>2017-01-03 13:47:00</td>\n",
       "      <td>0</td>\n",
       "      <td>False</td>\n",
       "      <td>Closed</td>\n",
       "      <td>1</td>\n",
       "      <td>2017-01-03 13:47:00</td>\n",
       "      <td>2017-01-03 13:47:00</td>\n",
       "      <td>2017-01-03 13:47:00</td>\n",
       "      <td>False</td>\n",
       "      <td>...</td>\n",
       "      <td>2</td>\n",
       "      <td>0.000000</td>\n",
       "      <td>0.000000</td>\n",
       "      <td>1</td>\n",
       "      <td>Call Center</td>\n",
       "      <td>00:00:00</td>\n",
       "      <td>1</td>\n",
       "      <td>00:00:00</td>\n",
       "      <td>1</td>\n",
       "      <td>2017</td>\n",
       "    </tr>\n",
       "    <tr>\n",
       "      <th>4</th>\n",
       "      <td>5134</td>\n",
       "      <td>2017-01-03 13:47:00</td>\n",
       "      <td>0</td>\n",
       "      <td>False</td>\n",
       "      <td>Closed</td>\n",
       "      <td>1</td>\n",
       "      <td>2017-01-03 13:47:00</td>\n",
       "      <td>2017-01-03 13:47:00</td>\n",
       "      <td>2017-01-03 13:47:00</td>\n",
       "      <td>False</td>\n",
       "      <td>...</td>\n",
       "      <td>2</td>\n",
       "      <td>0.000000</td>\n",
       "      <td>0.000000</td>\n",
       "      <td>1</td>\n",
       "      <td>Call Center</td>\n",
       "      <td>00:00:00</td>\n",
       "      <td>1</td>\n",
       "      <td>00:00:00</td>\n",
       "      <td>1</td>\n",
       "      <td>2017</td>\n",
       "    </tr>\n",
       "  </tbody>\n",
       "</table>\n",
       "<p>5 rows × 38 columns</p>\n",
       "</div>"
      ],
      "text/plain": [
       "   Request ID          Create Date  Master Request  Has Links  Status  \\\n",
       "0        5130  2017-01-03 13:11:00               0      False  Closed   \n",
       "1        5131  2017-01-03 13:29:00               0      False  Closed   \n",
       "2        5132  2017-01-03 13:33:00               0      False  Closed   \n",
       "3        5133  2017-01-03 13:47:00               0      False  Closed   \n",
       "4        5134  2017-01-03 13:47:00               0      False  Closed   \n",
       "\n",
       "   Status Code          Last Action          Last Change           Close Date  \\\n",
       "0            1  2017-01-03 14:05:00  2017-01-03 14:05:00  2017-01-03 14:05:00   \n",
       "1            1  2017-01-03 13:29:00  2017-01-03 13:29:00  2017-01-03 13:29:00   \n",
       "2            1  2017-01-03 13:33:00  2017-01-03 13:33:00  2017-01-03 13:33:00   \n",
       "3            1  2017-01-03 13:47:00  2017-01-03 13:47:00  2017-01-03 13:47:00   \n",
       "4            1  2017-01-03 13:47:00  2017-01-03 13:47:00  2017-01-03 13:47:00   \n",
       "\n",
       "   Work Order Created  ...   Priority  Longitude   Latitude Origin ID  \\\n",
       "0               False  ...          2 -71.105902  42.767552         1   \n",
       "1               False  ...          2   0.000000   0.000000         1   \n",
       "2               False  ...          2   0.000000   0.000000         1   \n",
       "3               False  ...          2   0.000000   0.000000         1   \n",
       "4               False  ...          2   0.000000   0.000000         1   \n",
       "\n",
       "        Origin CompletionTime DayofWeek  Completion Time Month  Year  \n",
       "0  Call Center       00:54:00         1         00:54:00     1  2017  \n",
       "1  Call Center       00:00:00         1         00:00:00     1  2017  \n",
       "2  Call Center       00:00:00         1         00:00:00     1  2017  \n",
       "3  Call Center       00:00:00         1         00:00:00     1  2017  \n",
       "4  Call Center       00:00:00         1         00:00:00     1  2017  \n",
       "\n",
       "[5 rows x 38 columns]"
      ]
     },
     "execution_count": 329,
     "metadata": {},
     "output_type": "execute_result"
    }
   ],
   "source": [
    "request.head()"
   ]
  },
  {
   "cell_type": "code",
   "execution_count": 343,
   "metadata": {},
   "outputs": [],
   "source": [
    "yearcounts = request.groupby('Year')['Year'].agg(len)"
   ]
  },
  {
   "cell_type": "code",
   "execution_count": 344,
   "metadata": {},
   "outputs": [],
   "source": [
    "years = ['2017', '2018','2019']"
   ]
  },
  {
   "cell_type": "code",
   "execution_count": 347,
   "metadata": {},
   "outputs": [
    {
     "name": "stdout",
     "output_type": "stream",
     "text": [
      "(3,)\n"
     ]
    }
   ],
   "source": [
    "print(yearcounts.shape)"
   ]
  },
  {
   "cell_type": "code",
   "execution_count": 348,
   "metadata": {},
   "outputs": [
    {
     "data": {
      "image/png": "[encoded data removed]",
      "text/plain": [
       "<Figure size 432x288 with 1 Axes>"
      ]
     },
     "metadata": {
      "needs_background": "light"
     },
     "output_type": "display_data"
    }
   ],
   "source": [
    "plt.figure()\n",
    "plt.xticks(np.arange(len(years)),years,rotation=0)\n",
    "bars = plt.bar(np.arange(len(years)),yearcounts)\n",
    "plt.ylabel('Number of requests')\n",
    "plt.xlabel('Year')\n",
    "for i,rect in enumerate(bars):\n",
    "    height = rect.get_height()\n",
    "    plt.text(rect.get_x() + rect.get_width()/2.0, height,list(yearcounts)[i], ha='center', va='bottom')"
   ]
  },
  {
   "cell_type": "code",
   "execution_count": 369,
   "metadata": {},
   "outputs": [],
   "source": [
    "gb_type = request.groupby('Request Type')\n",
    "gb_type_list = [gb_type.get_group(x) for x in gb_type.groups]"
   ]
  },
  {
   "cell_type": "code",
   "execution_count": 435,
   "metadata": {},
   "outputs": [],
   "source": [
    "avgtime_type = {}\n",
    "for i,group in enumerate(gb_type_list):\n",
    "    temp = list(set(group['Request Type']))\n",
    "    avgtime_type[temp[0]] = group['CompletionTime'].mean()"
   ]
  },
  {
   "cell_type": "code",
   "execution_count": 444,
   "metadata": {},
   "outputs": [],
   "source": [
    "# avgtime_type"
   ]
  },
  {
   "cell_type": "code",
   "execution_count": 445,
   "metadata": {},
   "outputs": [],
   "source": [
    "top20avgtimes = []\n",
    "for i,name in enumerate(top20names):\n",
    "#     print(name)\n",
    "#     print(avgtime_type.keys())\n",
    "    try:\n",
    "        top20avgtimes.append(avgtime_type[name])\n",
    "    except:\n",
    "        if name == 'A - Information Treasurer':\n",
    "            top20avgtimes.append(avgtime_type[name+\" \"])\n",
    "    \n",
    "            "
   ]
  },
  {
   "cell_type": "code",
   "execution_count": 446,
   "metadata": {},
   "outputs": [],
   "source": [
    "# top20avgtimes"
   ]
  },
  {
   "cell_type": "code",
   "execution_count": 454,
   "metadata": {},
   "outputs": [],
   "source": [
    "gb_dept = request.groupby('Department')\n",
    "gb_dept_list = [gb_dept.get_group(x) for x in gb_dept.groups]\n",
    "# print(gb_dept_list)"
   ]
  },
  {
   "cell_type": "code",
   "execution_count": 456,
   "metadata": {},
   "outputs": [],
   "source": [
    "avgtime_dept = {}\n",
    "for i,group in enumerate(gb_dept_list):\n",
    "    temp = list(set(group['Department']))\n",
    "#     print(temp)\n",
    "    avgtime_dept[temp[0]] = group['CompletionTime'].mean()"
   ]
  },
  {
   "cell_type": "code",
   "execution_count": 458,
   "metadata": {},
   "outputs": [],
   "source": [
    "# avgtime_dept"
   ]
  },
  {
   "cell_type": "code",
   "execution_count": 463,
   "metadata": {},
   "outputs": [
    {
     "data": {
      "text/plain": [
       "70060"
      ]
     },
     "execution_count": 463,
     "metadata": {},
     "output_type": "execute_result"
    }
   ],
   "source": [
    "sum(seasoncounts)"
   ]
  },
  {
   "cell_type": "code",
   "execution_count": 466,
   "metadata": {},
   "outputs": [],
   "source": [
    "sizes = []\n",
    "for i,count in enumerate(seasoncounts):\n",
    "#     print(i,count)\n",
    "    sizes.append((count/sum(seasoncounts))*360)"
   ]
  },
  {
   "cell_type": "code",
   "execution_count": 482,
   "metadata": {},
   "outputs": [
    {
     "data": {
      "image/png": "[encoded data removed]",
      "text/plain": [
       "<Figure size 432x288 with 1 Axes>"
      ]
     },
     "metadata": {},
     "output_type": "display_data"
    }
   ],
   "source": [
    "# sizes = [15, 30, 45, 10]\n",
    "explode = (0, 0, 0, 0)  # only \"explode\" the 2nd slice (i.e. 'Hogs')\n",
    "\n",
    "plt.figure()\n",
    "plt.pie(sizes, explode=explode, labels=seasons.keys(), autopct='%1.1f%%', colors = ['orange', 'yellow', 'purple', 'blue'],\n",
    "        shadow=False, startangle=0)\n",
    "plt.axis('equal')  # Equal aspect ratio ensures that pie is drawn as a circle.\n",
    "\n",
    "plt.show()"
   ]
  },
  {
   "cell_type": "code",
   "execution_count": 489,
   "metadata": {},
   "outputs": [
    {
     "data": {
      "text/plain": [
       "Department\n",
       "311 Call Center                25014\n",
       "Animal control                   168\n",
       "Assessing                          2\n",
       "City Clerk                         5\n",
       "Fire                              34\n",
       "Fire & Police                    109\n",
       "Highway                        15100\n",
       "Inspectional Services            313\n",
       "Mayor                             22\n",
       "Planning                           6\n",
       "Police                           104\n",
       "Stormwater/Sewer                 371\n",
       "Treasurer                          7\n",
       "Water                            171\n",
       "Water Billing                     10\n",
       "Water/Wastewater Department       81\n",
       "Name: Department, dtype: int64"
      ]
     },
     "execution_count": 489,
     "metadata": {},
     "output_type": "execute_result"
    }
   ],
   "source": [
    "request.groupby('Department')['Department'].agg(len)"
   ]
  },
  {
   "cell_type": "code",
   "execution_count": 497,
   "metadata": {},
   "outputs": [
    {
     "data": {
      "text/html": [
       "<div>\n",
       "<style scoped>\n",
       "    .dataframe tbody tr th:only-of-type {\n",
       "        vertical-align: middle;\n",
       "    }\n",
       "\n",
       "    .dataframe tbody tr th {\n",
       "        vertical-align: top;\n",
       "    }\n",
       "\n",
       "    .dataframe thead th {\n",
       "        text-align: right;\n",
       "    }\n",
       "</style>\n",
       "<table border=\"1\" class=\"dataframe\">\n",
       "  <thead>\n",
       "    <tr style=\"text-align: right;\">\n",
       "      <th></th>\n",
       "      <th>Request ID</th>\n",
       "      <th>Create Date</th>\n",
       "      <th>Master Request</th>\n",
       "      <th>Has Links</th>\n",
       "      <th>Status</th>\n",
       "      <th>Status Code</th>\n",
       "      <th>Last Action</th>\n",
       "      <th>Last Change</th>\n",
       "      <th>Close Date</th>\n",
       "      <th>Work Order Created</th>\n",
       "      <th>...</th>\n",
       "      <th>Priority</th>\n",
       "      <th>Longitude</th>\n",
       "      <th>Latitude</th>\n",
       "      <th>Origin ID</th>\n",
       "      <th>Origin</th>\n",
       "      <th>CompletionTime</th>\n",
       "      <th>DayofWeek</th>\n",
       "      <th>Completion Time</th>\n",
       "      <th>Month</th>\n",
       "      <th>Year</th>\n",
       "    </tr>\n",
       "  </thead>\n",
       "  <tbody>\n",
       "    <tr>\n",
       "      <th>1283</th>\n",
       "      <td>6419</td>\n",
       "      <td>2017-01-30 14:01:00</td>\n",
       "      <td>0</td>\n",
       "      <td>False</td>\n",
       "      <td>Closed</td>\n",
       "      <td>1</td>\n",
       "      <td>2017-01-30 17:22:00</td>\n",
       "      <td>2017-01-30 17:22:00</td>\n",
       "      <td>2017-01-30 17:22:00</td>\n",
       "      <td>False</td>\n",
       "      <td>...</td>\n",
       "      <td>2</td>\n",
       "      <td>0.0</td>\n",
       "      <td>0.0</td>\n",
       "      <td>1</td>\n",
       "      <td>Call Center</td>\n",
       "      <td>03:21:00</td>\n",
       "      <td>0</td>\n",
       "      <td>03:21:00</td>\n",
       "      <td>1</td>\n",
       "      <td>2017</td>\n",
       "    </tr>\n",
       "    <tr>\n",
       "      <th>2592</th>\n",
       "      <td>7730</td>\n",
       "      <td>2017-02-16 16:38:00</td>\n",
       "      <td>0</td>\n",
       "      <td>False</td>\n",
       "      <td>Closed</td>\n",
       "      <td>1</td>\n",
       "      <td>2017-02-16 19:43:00</td>\n",
       "      <td>2017-02-16 19:43:00</td>\n",
       "      <td>2017-02-16 19:43:00</td>\n",
       "      <td>False</td>\n",
       "      <td>...</td>\n",
       "      <td>2</td>\n",
       "      <td>0.0</td>\n",
       "      <td>0.0</td>\n",
       "      <td>1</td>\n",
       "      <td>Call Center</td>\n",
       "      <td>03:05:00</td>\n",
       "      <td>3</td>\n",
       "      <td>03:05:00</td>\n",
       "      <td>2</td>\n",
       "      <td>2017</td>\n",
       "    </tr>\n",
       "  </tbody>\n",
       "</table>\n",
       "<p>2 rows × 38 columns</p>\n",
       "</div>"
      ],
      "text/plain": [
       "      Request ID          Create Date  Master Request  Has Links  Status  \\\n",
       "1283        6419  2017-01-30 14:01:00               0      False  Closed   \n",
       "2592        7730  2017-02-16 16:38:00               0      False  Closed   \n",
       "\n",
       "      Status Code          Last Action          Last Change  \\\n",
       "1283            1  2017-01-30 17:22:00  2017-01-30 17:22:00   \n",
       "2592            1  2017-02-16 19:43:00  2017-02-16 19:43:00   \n",
       "\n",
       "               Close Date  Work Order Created  ...   Priority Longitude  \\\n",
       "1283  2017-01-30 17:22:00               False  ...          2       0.0   \n",
       "2592  2017-02-16 19:43:00               False  ...          2       0.0   \n",
       "\n",
       "      Latitude Origin ID       Origin CompletionTime DayofWeek  \\\n",
       "1283       0.0         1  Call Center       03:21:00         0   \n",
       "2592       0.0         1  Call Center       03:05:00         3   \n",
       "\n",
       "      Completion Time Month  Year  \n",
       "1283         03:21:00     1  2017  \n",
       "2592         03:05:00     2  2017  \n",
       "\n",
       "[2 rows x 38 columns]"
      ]
     },
     "execution_count": 497,
     "metadata": {},
     "output_type": "execute_result"
    }
   ],
   "source": [
    "request.loc[request['Department'] == 'Assessing']\n",
    "# df.loc[df['column_name'] == some_value]"
   ]
  },
  {
   "cell_type": "code",
   "execution_count": null,
   "metadata": {},
   "outputs": [],
   "source": []
  }
 ],
 "metadata": {
  "kernelspec": {
   "display_name": "Python 3",
   "language": "python",
   "name": "python3"
  },
  "language_info": {
   "codemirror_mode": {
    "name": "ipython",
    "version": 3
   },
   "file_extension": ".py",
   "mimetype": "text/x-python",
   "name": "python",
   "nbconvert_exporter": "python",
   "pygments_lexer": "ipython3",
   "version": "3.6.6"
  }
 },
 "nbformat": 4,
 "nbformat_minor": 2
}
